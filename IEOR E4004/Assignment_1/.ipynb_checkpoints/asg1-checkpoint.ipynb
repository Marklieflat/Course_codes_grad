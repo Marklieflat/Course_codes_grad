{
 "cells": [
  {
   "cell_type": "code",
   "execution_count": 1,
   "metadata": {},
   "outputs": [],
   "source": [
    "import gurobipy as gp\n",
    "from gurobipy import GRB"
   ]
  },
  {
   "cell_type": "code",
   "execution_count": 2,
   "metadata": {},
   "outputs": [],
   "source": [
    "# Data: Supplier information , cost per unit (c_jk), and maximum supply capacity (s_jk)\n",
    "suppliers = ['Supplier1', 'Supplier2', 'Supplier3']\n",
    "resources = ['Toilet␣Paper', 'Liquid␣Soap', 'Detergent', 'Cloths',\n",
    "'Toothpaste', 'Toothbrushes', 'Sanitary␣Pads', 'Shampoo']\n",
    "\n",
    "# Cost and maximum supply capacity for each supplier and resource\n",
    "cost_per_unit = {\n",
    "('Supplier1', 'Toilet␣Paper'): (0.80, 150),\n",
    "('Supplier1', 'Liquid␣Soap'): (6.40, 25),\n",
    "('Supplier1', 'Detergent'): (6.80, 20),\n",
    "('Supplier1', 'Cloths'): (10.00, 10),\n",
    "('Supplier1', 'Toothpaste'): (2.60, 50),\n",
    "('Supplier1', 'Toothbrushes'): (0.80, 50),\n",
    "('Supplier1', 'Sanitary␣Pads'): (0.20, 150),\n",
    "('Supplier1', 'Shampoo'): (2.30, 20),\n",
    "('Supplier2', 'Toilet␣Paper'): (0.95, 100),\n",
    "('Supplier2', 'Liquid␣Soap'): (3.98, 15),\n",
    "('Supplier2', 'Detergent'): (4.60, 10),\n",
    "('Supplier2', 'Cloths'): (11.00, 10),\n",
    "('Supplier2', 'Toothpaste'): (3.00, 60),\n",
    "('Supplier2', 'Toothbrushes'): (0.85, 60),\n",
    "('Supplier2', 'Sanitary␣Pads'): (0.18, 100),\n",
    "('Supplier2', 'Shampoo'): (1.20, 20),\n",
    "('Supplier3', 'Toilet␣Paper'): (0.84, 70),\n",
    "('Supplier3', 'Liquid␣Soap'): (5.50, 30),\n",
    "('Supplier3', 'Detergent'): (7.50, 15),\n",
    "('Supplier3', 'Cloths'): (10.50, 15),\n",
    "('Supplier3', 'Toothpaste'): (2.80, 30),\n",
    "('Supplier3', 'Toothbrushes'): (0.82, 30),\n",
    "('Supplier3', 'Sanitary␣Pads'): (0.15, 100),\n",
    "('Supplier3', 'Shampoo'): (3.00, 30)\n",
    "}\n",
    "\n",
    "# Minimum required quantities as a dataset for a shelter housing 20 people for one month\n",
    "minimum_quantities = {\n",
    "'Toilet␣Paper': 200,\n",
    "'Liquid␣Soap': 40,\n",
    "'Detergent': 30,\n",
    "'Cloths': 20,\n",
    "'Toothpaste': 100,\n",
    "'Toothbrushes': 100,\n",
    "'Sanitary␣Pads': 300,\n",
    "'Shampoo': 40\n",
    "}"
   ]
  },
  {
   "cell_type": "code",
   "execution_count": 3,
   "metadata": {},
   "outputs": [],
   "source": [
    "budget = 2000"
   ]
  },
  {
   "cell_type": "code",
   "execution_count": 4,
   "metadata": {},
   "outputs": [
    {
     "name": "stdout",
     "output_type": "stream",
     "text": [
      "Set parameter Username\n",
      "Academic license - for non-commercial use only - expires 2025-09-09\n"
     ]
    }
   ],
   "source": [
    "model = gp.Model(\"Resource_Procurement\")"
   ]
  },
  {
   "cell_type": "code",
   "execution_count": 7,
   "metadata": {},
   "outputs": [
    {
     "data": {
      "text/plain": [
       "{('Supplier1', 'Toilet␣Paper'): <gurobi.Var *Awaiting Model Update*>,\n",
       " ('Supplier1', 'Liquid␣Soap'): <gurobi.Var *Awaiting Model Update*>,\n",
       " ('Supplier1', 'Detergent'): <gurobi.Var *Awaiting Model Update*>,\n",
       " ('Supplier1', 'Cloths'): <gurobi.Var *Awaiting Model Update*>,\n",
       " ('Supplier1', 'Toothpaste'): <gurobi.Var *Awaiting Model Update*>,\n",
       " ('Supplier1', 'Toothbrushes'): <gurobi.Var *Awaiting Model Update*>,\n",
       " ('Supplier1', 'Sanitary␣Pads'): <gurobi.Var *Awaiting Model Update*>,\n",
       " ('Supplier1', 'Shampoo'): <gurobi.Var *Awaiting Model Update*>,\n",
       " ('Supplier2', 'Toilet␣Paper'): <gurobi.Var *Awaiting Model Update*>,\n",
       " ('Supplier2', 'Liquid␣Soap'): <gurobi.Var *Awaiting Model Update*>,\n",
       " ('Supplier2', 'Detergent'): <gurobi.Var *Awaiting Model Update*>,\n",
       " ('Supplier2', 'Cloths'): <gurobi.Var *Awaiting Model Update*>,\n",
       " ('Supplier2', 'Toothpaste'): <gurobi.Var *Awaiting Model Update*>,\n",
       " ('Supplier2', 'Toothbrushes'): <gurobi.Var *Awaiting Model Update*>,\n",
       " ('Supplier2', 'Sanitary␣Pads'): <gurobi.Var *Awaiting Model Update*>,\n",
       " ('Supplier2', 'Shampoo'): <gurobi.Var *Awaiting Model Update*>,\n",
       " ('Supplier3', 'Toilet␣Paper'): <gurobi.Var *Awaiting Model Update*>,\n",
       " ('Supplier3', 'Liquid␣Soap'): <gurobi.Var *Awaiting Model Update*>,\n",
       " ('Supplier3', 'Detergent'): <gurobi.Var *Awaiting Model Update*>,\n",
       " ('Supplier3', 'Cloths'): <gurobi.Var *Awaiting Model Update*>,\n",
       " ('Supplier3', 'Toothpaste'): <gurobi.Var *Awaiting Model Update*>,\n",
       " ('Supplier3', 'Toothbrushes'): <gurobi.Var *Awaiting Model Update*>,\n",
       " ('Supplier3', 'Sanitary␣Pads'): <gurobi.Var *Awaiting Model Update*>,\n",
       " ('Supplier3', 'Shampoo'): <gurobi.Var *Awaiting Model Update*>}"
      ]
     },
     "execution_count": 7,
     "metadata": {},
     "output_type": "execute_result"
    }
   ],
   "source": [
    "x = model.addVars(cost_per_unit.keys(), name=\"x\", vtype=GRB.INTEGER, lb=0)\n",
    "x"
   ]
  },
  {
   "cell_type": "code",
   "execution_count": 8,
   "metadata": {},
   "outputs": [],
   "source": [
    "model.setObjective(gp.quicksum(x[supplier, resource] * cost_per_unit[(supplier, resource)][0] for supplier, resource in cost_per_unit.keys()), GRB.MINIMIZE)"
   ]
  },
  {
   "cell_type": "code",
   "execution_count": 9,
   "metadata": {},
   "outputs": [],
   "source": [
    "for resource in resources:\n",
    "    model.addConstr(gp.quicksum(x[supplier, resource] for supplier in suppliers) >= minimum_quantities[resource], name=f\"Demand_{resource}\")"
   ]
  },
  {
   "cell_type": "code",
   "execution_count": 10,
   "metadata": {},
   "outputs": [],
   "source": [
    "for (supplier, resource), (_, max_supply) in cost_per_unit.items():\n",
    "    model.addConstr(x[supplier, resource] <= max_supply, name=f\"Supply_{supplier}_{resource}\")"
   ]
  },
  {
   "cell_type": "code",
   "execution_count": 11,
   "metadata": {},
   "outputs": [
    {
     "data": {
      "text/plain": [
       "<gurobi.Constr *Awaiting Model Update*>"
      ]
     },
     "execution_count": 11,
     "metadata": {},
     "output_type": "execute_result"
    }
   ],
   "source": [
    "model.addConstr(gp.quicksum(x[supplier, resource] * cost_per_unit[(supplier, resource)][0] for supplier, resource in cost_per_unit.keys()) <= budget, name=\"Budget\")"
   ]
  },
  {
   "cell_type": "code",
   "execution_count": 12,
   "metadata": {},
   "outputs": [
    {
     "name": "stdout",
     "output_type": "stream",
     "text": [
      "Gurobi Optimizer version 11.0.3 build v11.0.3rc0 (win64 - Windows 10.0 (19045.2))\n",
      "\n",
      "CPU model: Intel(R) Core(TM) i7-10875H CPU @ 2.30GHz, instruction set [SSE2|AVX|AVX2]\n",
      "Thread count: 8 physical cores, 16 logical processors, using up to 16 threads\n",
      "\n",
      "Optimize a model with 33 rows, 72 columns and 72 nonzeros\n",
      "Model fingerprint: 0xdeb5e035\n",
      "Variable types: 0 continuous, 72 integer (0 binary)\n",
      "Coefficient statistics:\n",
      "  Matrix range     [1e-01, 1e+01]\n",
      "  Objective range  [1e-01, 1e+01]\n",
      "  Bounds range     [0e+00, 0e+00]\n",
      "  RHS range        [1e+01, 2e+03]\n",
      "Found heuristic solution: objective 1332.1000000\n",
      "Presolve removed 33 rows and 72 columns\n",
      "Presolve time: 0.01s\n",
      "Presolve: All rows and columns removed\n",
      "\n",
      "Explored 0 nodes (0 simplex iterations) in 0.02 seconds (0.00 work units)\n",
      "Thread count was 1 (of 16 available processors)\n",
      "\n",
      "Solution count 2: 1224.8 1332.1 \n",
      "\n",
      "Optimal solution found (tolerance 1.00e-04)\n",
      "Best objective 1.224800000000e+03, best bound 1.224800000000e+03, gap 0.0000%\n"
     ]
    }
   ],
   "source": [
    "model.optimize()"
   ]
  },
  {
   "cell_type": "code",
   "execution_count": 13,
   "metadata": {},
   "outputs": [
    {
     "name": "stdout",
     "output_type": "stream",
     "text": [
      "Optimal solution found:\n",
      "Buy 150.00 units of Toilet␣Paper from Supplier1\n",
      "Buy 20.00 units of Detergent from Supplier1\n",
      "Buy 10.00 units of Cloths from Supplier1\n",
      "Buy 50.00 units of Toothpaste from Supplier1\n",
      "Buy 50.00 units of Toothbrushes from Supplier1\n",
      "Buy 100.00 units of Sanitary␣Pads from Supplier1\n",
      "Buy 20.00 units of Shampoo from Supplier1\n",
      "Buy 15.00 units of Liquid␣Soap from Supplier2\n",
      "Buy 10.00 units of Detergent from Supplier2\n",
      "Buy 20.00 units of Toothpaste from Supplier2\n",
      "Buy 20.00 units of Toothbrushes from Supplier2\n",
      "Buy 100.00 units of Sanitary␣Pads from Supplier2\n",
      "Buy 20.00 units of Shampoo from Supplier2\n",
      "Buy 50.00 units of Toilet␣Paper from Supplier3\n",
      "Buy 25.00 units of Liquid␣Soap from Supplier3\n",
      "Buy 10.00 units of Cloths from Supplier3\n",
      "Buy 30.00 units of Toothpaste from Supplier3\n",
      "Buy 30.00 units of Toothbrushes from Supplier3\n",
      "Buy 100.00 units of Sanitary␣Pads from Supplier3\n",
      "Total cost: 1224.80\n"
     ]
    }
   ],
   "source": [
    "if model.status == GRB.OPTIMAL:\n",
    "    print(\"Optimal solution found:\")\n",
    "    for supplier, resource in cost_per_unit.keys():\n",
    "        if x[supplier, resource].x > 0:  # Only print positive purchase quantities\n",
    "            print(f\"Buy {x[supplier, resource].x:.2f} units of {resource} from {supplier}\")\n",
    "    print(f\"Total cost: {model.objVal:.2f}\")\n",
    "else:\n",
    "    print(\"No optimal solution found\")"
   ]
  }
 ],
 "metadata": {
  "kernelspec": {
   "display_name": "Python 3 (ipykernel)",
   "language": "python",
   "name": "python3"
  },
  "language_info": {
   "codemirror_mode": {
    "name": "ipython",
    "version": 3
   },
   "file_extension": ".py",
   "mimetype": "text/x-python",
   "name": "python",
   "nbconvert_exporter": "python",
   "pygments_lexer": "ipython3",
   "version": "3.8.8"
  }
 },
 "nbformat": 4,
 "nbformat_minor": 2
}
