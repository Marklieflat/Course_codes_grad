{
 "cells": [
  {
   "cell_type": "code",
   "execution_count": 1,
   "metadata": {},
   "outputs": [],
   "source": [
    "import numpy as np\n",
    "import gurobipy as gp"
   ]
  },
  {
   "cell_type": "markdown",
   "metadata": {},
   "source": [
    "# Question 1"
   ]
  },
  {
   "cell_type": "markdown",
   "metadata": {},
   "source": [
    "## 1) Formulate and solve a linear program to minimize the dispatcher labor costs."
   ]
  },
  {
   "cell_type": "code",
   "execution_count": 2,
   "metadata": {},
   "outputs": [
    {
     "name": "stdout",
     "output_type": "stream",
     "text": [
      "Set parameter Username\n",
      "Academic license - for non-commercial use only - expires 2025-09-09\n"
     ]
    }
   ],
   "source": [
    "# Create a model\n",
    "model = gp.Model(\"q1.1\")"
   ]
  },
  {
   "cell_type": "code",
   "execution_count": 3,
   "metadata": {},
   "outputs": [],
   "source": [
    "# Define decision variables\n",
    "x = model.addVars(6, vtype=gp.GRB.INTEGER, name=\"x\")  # 8-hour shift variables\n",
    "y = model.addVars(4, vtype=gp.GRB.INTEGER, name=\"y\")  # 12-hour shift variables"
   ]
  },
  {
   "cell_type": "code",
   "execution_count": 4,
   "metadata": {},
   "outputs": [],
   "source": [
    "# Objective function: minimize labor costs\n",
    "model.setObjective(\n",
    "    40 * 8 * sum(x[i] for i in range(6)) + 35 * 12 * sum(y[j] for j in range(4)),\n",
    "    gp.GRB.MINIMIZE\n",
    ")"
   ]
  },
  {
   "cell_type": "code",
   "execution_count": 5,
   "metadata": {},
   "outputs": [],
   "source": [
    "# Add constraints based on the problem formulation\n",
    "model.addConstr(x[0] + x[5] + y[0] + y[3] >= 8)\n",
    "model.addConstr(x[0] + x[1] + y[0] + y[3] >= 10)\n",
    "model.addConstr(x[1] + x[2] + y[0] + y[1] >= 16)\n",
    "model.addConstr(x[2] + x[3] + y[1] + y[2] >= 21)\n",
    "model.addConstr(x[3] + x[4] + y[1] + y[2] >= 18)\n",
    "model.addConstr(x[4] + x[5] + y[2] + y[3] >= 12)\n",
    "\n",
    "# Non-negativity constraints:\n",
    "for i in range(6):\n",
    "    model.addConstr(x[i] >= 0)\n",
    "for j in range(4):\n",
    "    model.addConstr(y[j] >= 0)"
   ]
  },
  {
   "cell_type": "code",
   "execution_count": 6,
   "metadata": {},
   "outputs": [
    {
     "name": "stdout",
     "output_type": "stream",
     "text": [
      "Gurobi Optimizer version 11.0.3 build v11.0.3rc0 (win64 - Windows 10.0 (19045.2))\n",
      "\n",
      "CPU model: Intel(R) Core(TM) i7-10875H CPU @ 2.30GHz, instruction set [SSE2|AVX|AVX2]\n",
      "Thread count: 8 physical cores, 16 logical processors, using up to 16 threads\n",
      "\n",
      "Optimize a model with 16 rows, 10 columns and 34 nonzeros\n",
      "Model fingerprint: 0xa99bbcf8\n",
      "Variable types: 0 continuous, 10 integer (0 binary)\n",
      "Coefficient statistics:\n",
      "  Matrix range     [1e+00, 1e+00]\n",
      "  Objective range  [3e+02, 4e+02]\n",
      "  Bounds range     [0e+00, 0e+00]\n",
      "  RHS range        [8e+00, 2e+01]\n",
      "Found heuristic solution: objective 13020.000000\n",
      "Presolve removed 10 rows and 0 columns\n",
      "Presolve time: 0.00s\n",
      "Presolved: 6 rows, 10 columns, 24 nonzeros\n",
      "Variable types: 0 continuous, 10 integer (0 binary)\n",
      "Found heuristic solution: objective 12720.000000\n",
      "\n",
      "Root relaxation: objective 1.222000e+04, 7 iterations, 0.00 seconds (0.00 work units)\n",
      "\n",
      "    Nodes    |    Current Node    |     Objective Bounds      |     Work\n",
      " Expl Unexpl |  Obj  Depth IntInf | Incumbent    BestBd   Gap | It/Node Time\n",
      "\n",
      "*    0     0               0    12220.000000 12220.0000  0.00%     -    0s\n",
      "\n",
      "Explored 1 nodes (7 simplex iterations) in 0.01 seconds (0.00 work units)\n",
      "Thread count was 16 (of 16 available processors)\n",
      "\n",
      "Solution count 3: 12220 12720 13020 \n",
      "\n",
      "Optimal solution found (tolerance 1.00e-04)\n",
      "Best objective 1.222000000000e+04, best bound 1.222000000000e+04, gap 0.0000%\n"
     ]
    }
   ],
   "source": [
    "model.optimize()"
   ]
  },
  {
   "cell_type": "code",
   "execution_count": 10,
   "metadata": {},
   "outputs": [
    {
     "name": "stdout",
     "output_type": "stream",
     "text": [
      "Optimal solution found:\n",
      "x (8-hour shift): [-0.0, 2.0, 3.0, 3.0, -0.0, -0.0]\n",
      "y (12-hour shift): [8.0, 3.0, 12.0, -0.0]\n",
      "Total labor cost: $12220.00\n"
     ]
    }
   ],
   "source": [
    "if model.status == gp.GRB.OPTIMAL:\n",
    "    print(\"Optimal solution found:\")\n",
    "    print(f\"x (8-hour shift): {[x[i].x for i in range(6)]}\")\n",
    "    print(f\"y (12-hour shift): {[y[j].x for j in range(4)]}\")\n",
    "    print(f\"Total labor cost: ${model.objVal:.2f}\")\n",
    "else:\n",
    "    print(\"No optimal solution found.\")"
   ]
  },
  {
   "cell_type": "markdown",
   "metadata": {},
   "source": [
    "## 2） Suppose at most one-third of its controllers can work 12-hour shifts. Repeat (1)."
   ]
  },
  {
   "cell_type": "code",
   "execution_count": 15,
   "metadata": {},
   "outputs": [
    {
     "name": "stdout",
     "output_type": "stream",
     "text": [
      "Gurobi Optimizer version 11.0.3 build v11.0.3rc0 (win64 - Windows 10.0 (19045.2))\n",
      "\n",
      "CPU model: Intel(R) Core(TM) i7-10875H CPU @ 2.30GHz, instruction set [SSE2|AVX|AVX2]\n",
      "Thread count: 8 physical cores, 16 logical processors, using up to 16 threads\n",
      "\n",
      "Optimize a model with 17 rows, 10 columns and 44 nonzeros\n",
      "Model fingerprint: 0xfef9b289\n",
      "Coefficient statistics:\n",
      "  Matrix range     [1e+00, 2e+00]\n",
      "  Objective range  [3e+02, 4e+02]\n",
      "  Bounds range     [0e+00, 0e+00]\n",
      "  RHS range        [8e+00, 2e+01]\n",
      "Presolve removed 10 rows and 0 columns\n",
      "Presolve time: 0.00s\n",
      "Presolved: 7 rows, 10 columns, 34 nonzeros\n",
      "\n",
      "Iteration    Objective       Primal Inf.    Dual Inf.      Time\n",
      "       0    0.0000000e+00   8.500000e+01   0.000000e+00      0s\n",
      "       7    1.2871429e+04   0.000000e+00   0.000000e+00      0s\n",
      "\n",
      "Solved in 7 iterations and 0.01 seconds (0.00 work units)\n",
      "Optimal objective  1.287142857e+04\n"
     ]
    }
   ],
   "source": [
    "# Create a model\n",
    "model = gp.Model(\"q1.2\")\n",
    "\n",
    "# Define decision variables\n",
    "x = model.addVars(6, vtype=gp.GRB.CONTINUOUS, name=\"x\")  # 8-hour shift variables\n",
    "y = model.addVars(4, vtype=gp.GRB.CONTINUOUS, name=\"y\")  # 12-hour shift variables\n",
    "\n",
    "model.setObjective(\n",
    "    40 * 8 * sum(x[i] for i in range(6)) + 35 * 12 * sum(y[j] for j in range(4)),\n",
    "    gp.GRB.MINIMIZE\n",
    ")\n",
    "\n",
    "# Add constraints based on the problem formulation\n",
    "model.addConstr(x[0] + x[5] + y[0] + y[3] >= 8)\n",
    "model.addConstr(x[0] + x[1] + y[0] + y[3] >= 10)\n",
    "model.addConstr(x[1] + x[2] + y[0] + y[1] >= 16)\n",
    "model.addConstr(x[2] + x[3] + y[1] + y[2] >= 21)\n",
    "model.addConstr(x[3] + x[4] + y[1] + y[2] >= 18)\n",
    "model.addConstr(x[4] + x[5] + y[2] + y[3] >= 12)\n",
    "\n",
    "# Non-negativity constraints:\n",
    "for i in range(6):\n",
    "    model.addConstr(x[i] >= 0)\n",
    "for j in range(4):\n",
    "    model.addConstr(y[j] >= 0)\n",
    "\n",
    "# Additional Constraint:\n",
    "model.addConstr(gp.quicksum(x[i] for i in range(6)) >= 2*gp.quicksum(y[j] for j in range(4)))\n",
    "\n",
    "model.optimize()"
   ]
  },
  {
   "cell_type": "code",
   "execution_count": 16,
   "metadata": {},
   "outputs": [
    {
     "name": "stdout",
     "output_type": "stream",
     "text": [
      "Optimal solution found:\n",
      "x (8-hour shift): [2.428571428571428, 2.0, 8.428571428571429, 6.0, 5.428571428571429, 0.0]\n",
      "y (12-hour shift): [5.571428571428572, 0.0, 6.571428571428571, 0.0]\n",
      "Total labor cost: $12871.43\n"
     ]
    }
   ],
   "source": [
    "if model.status == gp.GRB.OPTIMAL:\n",
    "    print(\"Optimal solution found:\")\n",
    "    print(f\"x (8-hour shift): {[x[i].x for i in range(6)]}\")\n",
    "    print(f\"y (12-hour shift): {[y[j].x for j in range(4)]}\")\n",
    "    print(f\"Total labor cost: ${model.objVal:.2f}\")\n",
    "else:\n",
    "    print(\"No optimal solution found.\")"
   ]
  },
  {
   "cell_type": "markdown",
   "metadata": {},
   "source": [
    "# Question 2"
   ]
  },
  {
   "cell_type": "markdown",
   "metadata": {},
   "source": [
    "## 1) Primal problem"
   ]
  },
  {
   "cell_type": "code",
   "execution_count": 9,
   "metadata": {},
   "outputs": [
    {
     "name": "stdout",
     "output_type": "stream",
     "text": [
      "Gurobi Optimizer version 11.0.3 build v11.0.3rc0 (win64 - Windows 10.0 (19045.2))\n",
      "\n",
      "CPU model: Intel(R) Core(TM) i7-10875H CPU @ 2.30GHz, instruction set [SSE2|AVX|AVX2]\n",
      "Thread count: 8 physical cores, 16 logical processors, using up to 16 threads\n",
      "\n",
      "Optimize a model with 6 rows, 3 columns and 11 nonzeros\n",
      "Model fingerprint: 0xc75614d9\n",
      "Coefficient statistics:\n",
      "  Matrix range     [1e+00, 4e+00]\n",
      "  Objective range  [1e+01, 2e+01]\n",
      "  Bounds range     [0e+00, 0e+00]\n",
      "  RHS range        [2e+02, 4e+02]\n",
      "Presolve removed 3 rows and 0 columns\n",
      "Presolve time: 0.00s\n",
      "Presolved: 3 rows, 3 columns, 8 nonzeros\n",
      "\n",
      "Iteration    Objective       Primal Inf.    Dual Inf.      Time\n",
      "       0    1.1000000e+03   3.437500e+00   0.000000e+00      0s\n",
      "       1    1.1000000e+03   0.000000e+00   0.000000e+00      0s\n",
      "\n",
      "Solved in 1 iterations and 0.01 seconds (0.00 work units)\n",
      "Optimal objective  1.100000000e+03\n"
     ]
    }
   ],
   "source": [
    "model = gp.Model(\"q2.1\")\n",
    "\n",
    "# Define decision variables\n",
    "x = model.addVars(3, vtype = gp.GRB.CONTINUOUS, name = \"x\")\n",
    "\n",
    "# Objective function:\n",
    "model.setObjective(10*x[0] + 14*x[1] + 20*x[2], gp.GRB.MAXIMIZE)\n",
    "\n",
    "# Add constraints based on the problem formulation\n",
    "model.addConstr(2*x[0] + 3*x[1] + 4*x[2] <= 220)\n",
    "model.addConstr(4*x[0] + 2*x[1] - x[2] <= 385)\n",
    "model.addConstr(x[0] + 4*x[2] <= 160)\n",
    "\n",
    "# Non-negativity constraints:\n",
    "for i in range(3):\n",
    "    model.addConstr(x[i] >= 0)\n",
    "\n",
    "model.optimize()"
   ]
  },
  {
   "cell_type": "code",
   "execution_count": 10,
   "metadata": {},
   "outputs": [
    {
     "name": "stdout",
     "output_type": "stream",
     "text": [
      "Optimal solution found:\n",
      "x: [97.77777777777777, 0.0, 6.111111111111114]\n",
      "Maximized Value: 1100.00\n"
     ]
    }
   ],
   "source": [
    "if model.status == gp.GRB.OPTIMAL:\n",
    "    print(\"Optimal solution found:\")\n",
    "    print(f\"x: {[x[i].x for i in range(3)]}\")\n",
    "    print(f\"Maximized Value: {model.objVal:.2f}\")\n",
    "else:\n",
    "    print(\"No optimal solution found.\")"
   ]
  },
  {
   "cell_type": "markdown",
   "metadata": {},
   "source": [
    "## 2) Dual problem"
   ]
  },
  {
   "cell_type": "code",
   "execution_count": 11,
   "metadata": {},
   "outputs": [
    {
     "name": "stdout",
     "output_type": "stream",
     "text": [
      "Gurobi Optimizer version 11.0.3 build v11.0.3rc0 (win64 - Windows 10.0 (19045.2))\n",
      "\n",
      "CPU model: Intel(R) Core(TM) i7-10875H CPU @ 2.30GHz, instruction set [SSE2|AVX|AVX2]\n",
      "Thread count: 8 physical cores, 16 logical processors, using up to 16 threads\n",
      "\n",
      "Optimize a model with 6 rows, 3 columns and 11 nonzeros\n",
      "Model fingerprint: 0xfb1fc6f3\n",
      "Coefficient statistics:\n",
      "  Matrix range     [1e+00, 4e+00]\n",
      "  Objective range  [2e+02, 4e+02]\n",
      "  Bounds range     [0e+00, 0e+00]\n",
      "  RHS range        [1e+01, 2e+01]\n",
      "Presolve removed 3 rows and 0 columns\n",
      "Presolve time: 0.00s\n",
      "Presolved: 3 rows, 3 columns, 8 nonzeros\n",
      "\n",
      "Iteration    Objective       Primal Inf.    Dual Inf.      Time\n",
      "       0    0.0000000e+00   2.900000e+01   0.000000e+00      0s\n",
      "       3    1.1000000e+03   0.000000e+00   0.000000e+00      0s\n",
      "\n",
      "Solved in 3 iterations and 0.01 seconds (0.00 work units)\n",
      "Optimal objective  1.100000000e+03\n"
     ]
    }
   ],
   "source": [
    "model = gp.Model(\"q2.2\")\n",
    "\n",
    "# Define decision variables\n",
    "y = model.addVars(3, vtype = gp.GRB.CONTINUOUS, name = \"y\")\n",
    "\n",
    "# Objective function:\n",
    "model.setObjective(220*y[0] + 385*y[1] + 160*y[2], gp.GRB.MINIMIZE)\n",
    "\n",
    "# Add constraints based on the problem formulation\n",
    "model.addConstr(2*y[0] + 4*y[1] + y[2] >= 10)\n",
    "model.addConstr(3*y[0] + 2*y[1] >= 14)\n",
    "model.addConstr(4*y[0] - y[1] + 4*y[2] >= 20)\n",
    "\n",
    "# Non-negativity constraints:\n",
    "for i in range(3):\n",
    "    model.addConstr(y[i] >= 0)\n",
    "\n",
    "model.optimize()"
   ]
  },
  {
   "cell_type": "code",
   "execution_count": 12,
   "metadata": {},
   "outputs": [
    {
     "name": "stdout",
     "output_type": "stream",
     "text": [
      "Optimal solution found:\n",
      "y: [5.0, 0.0, 0.0]\n",
      "Minimized Value: 1100.00\n"
     ]
    }
   ],
   "source": [
    "if model.status == gp.GRB.OPTIMAL:\n",
    "    print(\"Optimal solution found:\")\n",
    "    print(f\"y: {[y[i].x for i in range(3)]}\")\n",
    "    print(f\"Minimized Value: {model.objVal:.2f}\")\n",
    "else:\n",
    "    print(\"No optimal solution found.\")"
   ]
  },
  {
   "cell_type": "markdown",
   "metadata": {},
   "source": [
    "# Question 3"
   ]
  },
  {
   "cell_type": "markdown",
   "metadata": {},
   "source": [
    "## 1. Solve this problem using Gurobi solver via the Python interface. What is the optimal number of each pattern, and what is the minimum number of boards to cut?"
   ]
  },
  {
   "cell_type": "code",
   "execution_count": 17,
   "metadata": {},
   "outputs": [
    {
     "name": "stdout",
     "output_type": "stream",
     "text": [
      "Gurobi Optimizer version 11.0.3 build v11.0.3rc0 (win64 - Windows 10.0 (19045.2))\n",
      "\n",
      "CPU model: Intel(R) Core(TM) i7-10875H CPU @ 2.30GHz, instruction set [SSE2|AVX|AVX2]\n",
      "Thread count: 8 physical cores, 16 logical processors, using up to 16 threads\n",
      "\n",
      "Optimize a model with 9 rows, 6 columns and 15 nonzeros\n",
      "Model fingerprint: 0xd42d0d5f\n",
      "Variable types: 0 continuous, 6 integer (0 binary)\n",
      "Coefficient statistics:\n",
      "  Matrix range     [1e+00, 3e+00]\n",
      "  Objective range  [1e+00, 1e+00]\n",
      "  Bounds range     [0e+00, 0e+00]\n",
      "  RHS range        [6e+01, 9e+01]\n",
      "Found heuristic solution: objective 150.0000000\n",
      "Presolve removed 6 rows and 0 columns\n",
      "Presolve time: 0.00s\n",
      "Presolved: 3 rows, 6 columns, 9 nonzeros\n",
      "Variable types: 0 continuous, 6 integer (0 binary)\n",
      "\n",
      "Root relaxation: objective 8.250000e+01, 4 iterations, 0.00 seconds (0.00 work units)\n",
      "\n",
      "    Nodes    |    Current Node    |     Objective Bounds      |     Work\n",
      " Expl Unexpl |  Obj  Depth IntInf | Incumbent    BestBd   Gap | It/Node Time\n",
      "\n",
      "     0     0   82.50000    0    1  150.00000   82.50000  45.0%     -    0s\n",
      "H    0     0                      83.0000000   82.50000  0.60%     -    0s\n",
      "     0     0   82.50000    0    1   83.00000   82.50000  0.60%     -    0s\n",
      "\n",
      "Explored 1 nodes (4 simplex iterations) in 0.02 seconds (0.00 work units)\n",
      "Thread count was 16 (of 16 available processors)\n",
      "\n",
      "Solution count 2: 83 150 \n",
      "\n",
      "Optimal solution found (tolerance 1.00e-04)\n",
      "Best objective 8.300000000000e+01, best bound 8.300000000000e+01, gap 0.0000%\n"
     ]
    }
   ],
   "source": [
    "model = gp.Model(\"q3.2\")\n",
    "\n",
    "# Define decision variables\n",
    "x = model.addVars(6, vtype = gp.GRB.INTEGER, name = \"x\")\n",
    "\n",
    "# Objective function:\n",
    "model.setObjective(gp.quicksum(x[i] for i in range(6)), gp.GRB.MINIMIZE)\n",
    "\n",
    "# Add constraints based on the problem formulation\n",
    "model.addConstr(3*x[0] + 2*x[1] + x[3] >= 90)\n",
    "model.addConstr(x[1] + 2*x[2] + x[4] >= 60)\n",
    "model.addConstr(x[3] + x[4] + 2*x[5] >= 60)\n",
    "\n",
    "# Non-negativity constraints:\n",
    "for i in range(6):\n",
    "    model.addConstr(x[i] >= 0)\n",
    "\n",
    "model.optimize()"
   ]
  },
  {
   "cell_type": "code",
   "execution_count": 18,
   "metadata": {},
   "outputs": [
    {
     "name": "stdout",
     "output_type": "stream",
     "text": [
      "Optimal solution found:\n",
      "x: [-0.0, 46.0, 7.0, -0.0, -0.0, 30.0]\n",
      "Minimized Value: 83.00\n"
     ]
    }
   ],
   "source": [
    "if model.status == gp.GRB.OPTIMAL:\n",
    "    print(\"Optimal solution found:\")\n",
    "    print(f\"x: {[x[i].x for i in range(6)]}\")\n",
    "    print(f\"Minimized Value: {model.objVal:.2f}\")\n",
    "else:\n",
    "    print(\"No optimal solution found.\")"
   ]
  },
  {
   "cell_type": "code",
   "execution_count": 4,
   "metadata": {},
   "outputs": [
    {
     "name": "stdout",
     "output_type": "stream",
     "text": [
      "Set parameter PoolSearchMode to value 2\n",
      "Set parameter PoolSolutions to value 100\n",
      "Gurobi Optimizer version 11.0.3 build v11.0.3rc0 (win64 - Windows 10.0 (19045.2))\n",
      "\n",
      "CPU model: Intel(R) Core(TM) i7-10875H CPU @ 2.30GHz, instruction set [SSE2|AVX|AVX2]\n",
      "Thread count: 8 physical cores, 16 logical processors, using up to 16 threads\n",
      "\n",
      "Optimize a model with 9 rows, 6 columns and 15 nonzeros\n",
      "Model fingerprint: 0xd42d0d5f\n",
      "Variable types: 0 continuous, 6 integer (0 binary)\n",
      "Coefficient statistics:\n",
      "  Matrix range     [1e+00, 3e+00]\n",
      "  Objective range  [1e+00, 1e+00]\n",
      "  Bounds range     [0e+00, 0e+00]\n",
      "  RHS range        [6e+01, 9e+01]\n",
      "Found heuristic solution: objective 150.0000000\n",
      "Presolve removed 6 rows and 0 columns\n",
      "Presolve time: 0.00s\n",
      "Presolved: 3 rows, 6 columns, 9 nonzeros\n",
      "Variable types: 0 continuous, 6 integer (0 binary)\n",
      "Found heuristic solution: objective 90.0000000\n",
      "\n",
      "Root relaxation: objective 8.250000e+01, 3 iterations, 0.00 seconds (0.00 work units)\n",
      "\n",
      "    Nodes    |    Current Node    |     Objective Bounds      |     Work\n",
      " Expl Unexpl |  Obj  Depth IntInf | Incumbent    BestBd   Gap | It/Node Time\n",
      "\n",
      "     0     0   82.50000    0    1   90.00000   82.50000  8.33%     -    0s\n",
      "H    0     0                      83.0000000   82.50000  0.60%     -    0s\n",
      "     0     0   82.50000    0    1   83.00000   82.50000  0.60%     -    0s\n",
      "\n",
      "Optimal solution found at node 0 - now completing solution pool...\n",
      "\n",
      "    Nodes    |    Current Node    |      Pool Obj. Bounds     |     Work\n",
      "             |                    |   Worst                   |\n",
      " Expl Unexpl |  Obj  Depth IntInf | Incumbent    BestBd   Gap | It/Node Time\n",
      "\n",
      "     0     0   82.50000    0    1          -   82.50000      -     -    0s\n",
      "     0     2   82.50000    0    1          -   82.50000      -     -    0s\n",
      "\n",
      "Cutting planes:\n",
      "  Gomory: 1\n",
      "\n",
      "Explored 3340 nodes (1627 simplex iterations) in 0.05 seconds (0.00 work units)\n",
      "Thread count was 16 (of 16 available processors)\n",
      "\n",
      "Solution count 100: 83 83 83 ... 84\n",
      "No other solutions better than 84\n",
      "\n",
      "Optimal solution found (tolerance 1.00e-04)\n",
      "Best objective 8.300000000000e+01, best bound 8.300000000000e+01, gap 0.0000%\n"
     ]
    }
   ],
   "source": [
    "# Create a model\n",
    "model = gp.Model(\"q3.2\")\n",
    "\n",
    "# Define decision variables\n",
    "x = model.addVars(6, vtype=gp.GRB.INTEGER, name=\"x\")\n",
    "\n",
    "# Objective function: minimize the number of 10-ft boards used\n",
    "model.setObjective(gp.quicksum(x[i] for i in range(6)), gp.GRB.MINIMIZE)\n",
    "\n",
    "# Add constraints based on the problem formulation\n",
    "model.addConstr(3 * x[0] + 2 * x[1] + x[3] >= 90)  # Demand for 3-ft boards\n",
    "model.addConstr(x[1] + 2 * x[2] + x[4] >= 60)      # Demand for 4-ft boards\n",
    "model.addConstr(x[3] + x[4] + 2 * x[5] >= 60)      # Demand for 5-ft boards\n",
    "\n",
    "# Non-negativity constraints (implicitly handled by integer type):\n",
    "for i in range(6):\n",
    "    model.addConstr(x[i] >= 0)\n",
    "\n",
    "# Set parameters to find multiple solutions\n",
    "model.setParam(gp.GRB.Param.PoolSearchMode, 2)  # Focus on finding multiple solutions\n",
    "model.setParam(gp.GRB.Param.PoolSolutions, 100)  # Limit to 100 solutions\n",
    "\n",
    "# Optimize the model\n",
    "model.optimize()"
   ]
  },
  {
   "cell_type": "code",
   "execution_count": 5,
   "metadata": {},
   "outputs": [
    {
     "name": "stdout",
     "output_type": "stream",
     "text": [
      "Number of solutions found: 10\n",
      "Optimal objective value: 83\n",
      "Solution 1: 83.0\n",
      "x: [0.0, 46.0, 6.0, 0.0, 2.0, 29.0]\n",
      "Solution 2: 82.99999999999999\n",
      "x: [-0.0, 45.0, 7.0, -0.0, 1.9999999999999662, 29.000000000000018]\n",
      "Solution 3: 83.0\n",
      "x: [-0.0, 45.0, 8.0, -0.0, -0.0, 30.0]\n",
      "Solution 4: 83.0\n",
      "x: [-0.0, 46.0, 7.0, -0.0, -0.0, 30.0]\n",
      "Solution 5: 83.0\n",
      "x: [-0.0, 45.0, 7.0000000000000036, 1.0, 0.9999999999999929, 29.0]\n",
      "Solution 6: 83.0\n",
      "x: [-0.0, 45.0, 7.0000000000000036, -0.0, 0.9999999999999929, 30.0]\n",
      "Solution 7: 83.0\n",
      "x: [-0.0, 45.0, 6.0, -0.0, 3.0, 29.0]\n",
      "Solution 8: 83.0\n",
      "x: [-0.0, 45.0, 6.0, -0.0, 4.0, 28.0]\n",
      "Solution 9: 83.0\n",
      "x: [-0.0, 46.0, 5.0, -0.0, 4.0, 28.0]\n",
      "Solution 10: 83.0\n",
      "x: [1.0, 44.0, 7.0, -0.0, 2.0, 29.0]\n"
     ]
    }
   ],
   "source": [
    "# Output all the solutions found\n",
    "solution_count = min(10, model.SolCount)  # Number of solutions in the solution pool\n",
    "print(f\"Number of solutions found: {solution_count}\")\n",
    "\n",
    "if model.Status == gp.GRB.OPTIMAL or model.SolCount > 0:\n",
    "    print('Optimal objective value: %g' % model.objVal)\n",
    "    for i in range(min(10,solution_count)):\n",
    "        model.setParam(gp.GRB.Param.SolutionNumber, i)\n",
    "        print(f\"Solution {i + 1}: {model.PoolObjVal}\")\n",
    "        print(f\"x: {[x[j].xn for j in range(6)]}\")"
   ]
  },
  {
   "cell_type": "markdown",
   "metadata": {},
   "source": [
    "##  2. Modify the model and resolve it. Summarize the results here"
   ]
  },
  {
   "cell_type": "code",
   "execution_count": 9,
   "metadata": {},
   "outputs": [
    {
     "name": "stdout",
     "output_type": "stream",
     "text": [
      "Gurobi Optimizer version 11.0.3 build v11.0.3rc0 (win64 - Windows 10.0 (19045.2))\n",
      "\n",
      "CPU model: Intel(R) Core(TM) i7-10875H CPU @ 2.30GHz, instruction set [SSE2|AVX|AVX2]\n",
      "Thread count: 8 physical cores, 16 logical processors, using up to 16 threads\n",
      "\n",
      "Optimize a model with 10 rows, 6 columns and 21 nonzeros\n",
      "Model fingerprint: 0x380bd254\n",
      "Variable types: 0 continuous, 6 integer (0 binary)\n",
      "Coefficient statistics:\n",
      "  Matrix range     [1e+00, 3e+00]\n",
      "  Objective range  [1e+00, 2e+00]\n",
      "  Bounds range     [0e+00, 0e+00]\n",
      "  RHS range        [6e+01, 9e+01]\n",
      "Presolve removed 6 rows and 0 columns\n",
      "Presolve time: 0.00s\n",
      "Presolved: 4 rows, 6 columns, 15 nonzeros\n",
      "Variable types: 0 continuous, 6 integer (0 binary)\n",
      "\n",
      "Root relaxation: objective 1.400000e+01, 2 iterations, 0.00 seconds (0.00 work units)\n",
      "\n",
      "    Nodes    |    Current Node    |     Objective Bounds      |     Work\n",
      " Expl Unexpl |  Obj  Depth IntInf | Incumbent    BestBd   Gap | It/Node Time\n",
      "\n",
      "*    0     0               0      14.0000000   14.00000  0.00%     -    0s\n",
      "\n",
      "Explored 1 nodes (2 simplex iterations) in 0.01 seconds (0.00 work units)\n",
      "Thread count was 16 (of 16 available processors)\n",
      "\n",
      "Solution count 1: 14 \n",
      "\n",
      "Optimal solution found (tolerance 1.00e-04)\n",
      "Best objective 1.400000000000e+01, best bound 1.400000000000e+01, gap 0.0000%\n"
     ]
    }
   ],
   "source": [
    "import gurobipy as gp\n",
    "\n",
    "# Create a model\n",
    "model = gp.Model(\"q3.3\")\n",
    "\n",
    "# Define decision variables (number of times each pattern is used)\n",
    "x = model.addVars(6, vtype=gp.GRB.INTEGER, name=\"x\")\n",
    "\n",
    "# Objective function: minimize the number of 10-ft boards and then the total scrap\n",
    "model.setObjective((x[0] + 2 * x[2] + 2 * x[3] + x[4]), gp.GRB.MINIMIZE)\n",
    "\n",
    "# Add constraints for meeting demand\n",
    "model.addConstr(gp.quicksum(x[i] for i in range(6)) <= 83)\n",
    "model.addConstr(3 * x[0] + 2 * x[1] + x[3] >= 90, \"3ft_board_demand\")\n",
    "model.addConstr(x[1] + 2 * x[2] + x[4] >= 60, \"4ft_board_demand\")\n",
    "model.addConstr(x[3] + x[4] + 2 * x[5] >= 60, \"5ft_board_demand\")\n",
    "\n",
    "# Non-negativity constraints\n",
    "for i in range(6):\n",
    "    model.addConstr(x[i] >= 0)\n",
    "\n",
    "# Optimize the model\n",
    "model.optimize()"
   ]
  },
  {
   "cell_type": "code",
   "execution_count": 12,
   "metadata": {},
   "outputs": [
    {
     "name": "stdout",
     "output_type": "stream",
     "text": [
      "Optimal solution found:\n",
      "Pattern 1 (x[0]): -0.0\n",
      "Pattern 2 (x[1]): 46.0\n",
      "Pattern 3 (x[2]): 7.0\n",
      "Pattern 4 (x[3]): -0.0\n",
      "Pattern 5 (x[4]): -0.0\n",
      "Pattern 6 (x[5]): 30.0\n",
      "Total number of 10-ft boards: 83\n",
      "Total scrap generated: 14.0 inches\n"
     ]
    }
   ],
   "source": [
    "# Print the results\n",
    "if model.status == gp.GRB.OPTIMAL:\n",
    "    print(\"Optimal solution found:\")\n",
    "    for i in range(6):\n",
    "        print(f\"Pattern {i+1} (x[{i}]): {x[i].x}\")\n",
    "    print(f\"Total number of 10-ft boards: {sum([x[i].x for i in range(6)]):.0f}\")\n",
    "    total_scrap = x[0].x + 2 * x[2].x + 2 * x[3].x + x[4].x\n",
    "    print(f\"Total scrap generated: {total_scrap} inches\")\n",
    "else:\n",
    "    print(\"No optimal solution found.\")"
   ]
  }
 ],
 "metadata": {
  "kernelspec": {
   "display_name": "Python 3 (ipykernel)",
   "language": "python",
   "name": "python3"
  },
  "language_info": {
   "codemirror_mode": {
    "name": "ipython",
    "version": 3
   },
   "file_extension": ".py",
   "mimetype": "text/x-python",
   "name": "python",
   "nbconvert_exporter": "python",
   "pygments_lexer": "ipython3",
   "version": "3.8.8"
  }
 },
 "nbformat": 4,
 "nbformat_minor": 2
}
