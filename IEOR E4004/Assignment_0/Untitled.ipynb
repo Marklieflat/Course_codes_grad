{
 "cells": [
  {
   "cell_type": "code",
   "execution_count": 1,
   "id": "f33d1d61",
   "metadata": {},
   "outputs": [
    {
     "name": "stdout",
     "output_type": "stream",
     "text": [
      "Set parameter Username\n",
      "Academic license - for non-commercial use only - expires 2025-09-09\n",
      "Gurobi Optimizer version 11.0.3 build v11.0.3rc0 (win64 - Windows 10.0 (19045.2))\n",
      "\n",
      "CPU model: Intel(R) Core(TM) i7-10875H CPU @ 2.30GHz, instruction set [SSE2|AVX|AVX2]\n",
      "Thread count: 8 physical cores, 16 logical processors, using up to 16 threads\n",
      "\n",
      "Optimize a model with 2 rows, 3 columns and 4 nonzeros\n",
      "Model fingerprint: 0x8d9b7076\n",
      "Coefficient statistics:\n",
      "  Matrix range     [1e+00, 1e+00]\n",
      "  Objective range  [1e+00, 3e+00]\n",
      "  Bounds range     [0e+00, 0e+00]\n",
      "  RHS range        [1e+00, 1e+00]\n",
      "Presolve removed 2 rows and 3 columns\n",
      "Presolve time: 0.02s\n",
      "Presolve: All rows and columns removed\n",
      "Iteration    Objective       Primal Inf.    Dual Inf.      Time\n",
      "       0    4.0000000e+00   0.000000e+00   0.000000e+00      0s\n",
      "\n",
      "Solved in 0 iterations and 0.03 seconds (0.00 work units)\n",
      "Optimal objective  4.000000000e+00\n",
      "4.0\n",
      "[1. 0. 1.]\n"
     ]
    }
   ],
   "source": [
    "import gurobipy as grb\n",
    "import numpy as np\n",
    "# This example formulates and solves the following simple LP model:\n",
    "# maximize\n",
    "# x + 2 y + 3 z\n",
    "# subject to\n",
    "# x + y <= 1\n",
    "# y + z <= 1\n",
    "M = grb.Model('my_model')\n",
    "x = M.addMVar(3)\n",
    "A = np.array([[1,1,0],[0,1,1]])\n",
    "c = np.array([1,2,3])\n",
    "b = np.array([1,1])\n",
    "M.setObjective(c@x, grb.GRB.MAXIMIZE)\n",
    "M.addConstr(A@x <= b)\n",
    "M.optimize()\n",
    "print(M.objVal)\n",
    "print(x.x)"
   ]
  },
  {
   "cell_type": "code",
   "execution_count": null,
   "id": "4226ab94",
   "metadata": {},
   "outputs": [],
   "source": []
  }
 ],
 "metadata": {
  "kernelspec": {
   "display_name": "Python 3 (ipykernel)",
   "language": "python",
   "name": "python3"
  },
  "language_info": {
   "codemirror_mode": {
    "name": "ipython",
    "version": 3
   },
   "file_extension": ".py",
   "mimetype": "text/x-python",
   "name": "python",
   "nbconvert_exporter": "python",
   "pygments_lexer": "ipython3",
   "version": "3.9.19"
  }
 },
 "nbformat": 4,
 "nbformat_minor": 5
}
